{
 "cells": [
  {
   "cell_type": "code",
   "execution_count": null,
   "id": "56f80d64",
   "metadata": {},
   "outputs": [],
   "source": [
    "import pandas as pd"
   ]
  },
  {
   "cell_type": "code",
   "execution_count": null,
   "id": "80f7a52d",
   "metadata": {},
   "outputs": [],
   "source": [
    "df=pd.read_csv('orders.csv',na_values=[\"Not Available\",\"unknown\"])"
   ]
  },
  {
   "cell_type": "code",
   "execution_count": null,
   "id": "d823d2e8",
   "metadata": {},
   "outputs": [],
   "source": [
    "df.head(20)"
   ]
  },
  {
   "cell_type": "code",
   "execution_count": null,
   "id": "8fc09134",
   "metadata": {},
   "outputs": [],
   "source": [
    "df.columns=df.columns.str.lower()"
   ]
  },
  {
   "cell_type": "code",
   "execution_count": null,
   "id": "3d1a0c89",
   "metadata": {},
   "outputs": [],
   "source": [
    "df.columns=df.columns.str.replace(' ','_')"
   ]
  },
  {
   "cell_type": "code",
   "execution_count": null,
   "id": "3d5c62a2",
   "metadata": {},
   "outputs": [],
   "source": [
    "df.columns"
   ]
  },
  {
   "cell_type": "code",
   "execution_count": null,
   "id": "465ae10d",
   "metadata": {},
   "outputs": [],
   "source": [
    "df.head(10)"
   ]
  },
  {
   "cell_type": "code",
   "execution_count": null,
   "id": "642fb628",
   "metadata": {},
   "outputs": [],
   "source": [
    "df[\"Ship Mode\"].unique()"
   ]
  },
  {
   "cell_type": "code",
   "execution_count": null,
   "id": "16489a82",
   "metadata": {},
   "outputs": [],
   "source": [
    "#discount amount\n",
    "df['discount']=df['list_price']*df['discount_percent']*0.01"
   ]
  },
  {
   "cell_type": "code",
   "execution_count": null,
   "id": "a63b15e1",
   "metadata": {},
   "outputs": [],
   "source": [
    "df['discount']"
   ]
  },
  {
   "cell_type": "code",
   "execution_count": null,
   "id": "4213b6fe",
   "metadata": {},
   "outputs": [],
   "source": [
    "#selling price\n",
    "df['sale_price']=df['list_price']-df['discount']"
   ]
  },
  {
   "cell_type": "code",
   "execution_count": null,
   "id": "803bb33a",
   "metadata": {},
   "outputs": [],
   "source": [
    "df['sale_price']"
   ]
  },
  {
   "cell_type": "code",
   "execution_count": null,
   "id": "f01aabf0",
   "metadata": {},
   "outputs": [],
   "source": [
    "df"
   ]
  },
  {
   "cell_type": "code",
   "execution_count": null,
   "id": "c6fc4711",
   "metadata": {},
   "outputs": [],
   "source": [
    "#profit\n",
    "df['profit']=df['sale_price']-df['cost_price']"
   ]
  },
  {
   "cell_type": "code",
   "execution_count": null,
   "id": "cdf796be",
   "metadata": {},
   "outputs": [],
   "source": [
    "df"
   ]
  },
  {
   "cell_type": "code",
   "execution_count": null,
   "id": "b657a88e",
   "metadata": {},
   "outputs": [],
   "source": [
    "df['order_date']=pd.to_datetime(df['order_date'],format=\"%Y-%m-%d\")"
   ]
  },
  {
   "cell_type": "code",
   "execution_count": null,
   "id": "64ae858e",
   "metadata": {},
   "outputs": [],
   "source": [
    "#drop unwanted columns\n",
    "df.drop(columns=['cost_price','list_price','discount_percent'],inplace=True)"
   ]
  },
  {
   "cell_type": "code",
   "execution_count": null,
   "id": "d660ef71",
   "metadata": {},
   "outputs": [],
   "source": [
    "df"
   ]
  },
  {
   "cell_type": "code",
   "execution_count": null,
   "id": "0c07bd65",
   "metadata": {},
   "outputs": [],
   "source": [
    "import sqlalchemy as sal\n",
    "engine=sal.create_engine('mssql://DESKTOP-L6S4O9Q\\SQLEXPRESS/vani?driver=ODBC+DRIVER+17+FOR+SQL+SERVER')\n",
    "conn=engine.connect()"
   ]
  },
  {
   "cell_type": "code",
   "execution_count": null,
   "id": "f40353ff",
   "metadata": {},
   "outputs": [],
   "source": [
    "df.to_sql('orders',con=conn,index=False,if_exists='replace')"
   ]
  },
  {
   "cell_type": "code",
   "execution_count": null,
   "id": "b579bd85",
   "metadata": {},
   "outputs": [],
   "source": []
  }
 ],
 "metadata": {
  "kernelspec": {
   "display_name": "Python 3 (ipykernel)",
   "language": "python",
   "name": "python3"
  },
  "language_info": {
   "codemirror_mode": {
    "name": "ipython",
    "version": 3
   },
   "file_extension": ".py",
   "mimetype": "text/x-python",
   "name": "python",
   "nbconvert_exporter": "python",
   "pygments_lexer": "ipython3",
   "version": "3.11.5"
  }
 },
 "nbformat": 4,
 "nbformat_minor": 5
}
